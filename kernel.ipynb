{
  "cells": [
    {
      "metadata": {
        "_uuid": "8f2839f25d086af736a60e9eeb907d3b93b6e0e5",
        "_cell_guid": "b1076dfc-b9ad-4769-8c92-a6c4dae69d19",
        "trusted": true
      },
      "cell_type": "code",
      "source": "# This Python 3 environment comes with many helpful analytics libraries installed\n# It is defined by the kaggle/python docker image: https://github.com/kaggle/docker-python\n# For example, here's several helpful packages to load in \n\nimport numpy as np # linear algebra\nimport pandas as pd # data processing, CSV file I/O (e.g. pd.read_csv)\n\n# Input data files are available in the \"../input/\" directory.\n# For example, running this (by clicking run or pressing Shift+Enter) will list the files in the input directory\n\nimport os\nprint(os.listdir(\"../input\"))\n\n# Any results you write to the current directory are saved as output.",
      "execution_count": null,
      "outputs": []
    },
    {
      "metadata": {
        "_cell_guid": "79c7e3d0-c299-4dcb-8224-4455121ee9b0",
        "_uuid": "d629ff2d2480ee46fbb7e2d37f6b5fab8052498a",
        "trusted": true
      },
      "cell_type": "code",
      "source": "df = pd.read_csv('../input/kc_house_data.csv')",
      "execution_count": null,
      "outputs": []
    },
    {
      "metadata": {
        "trusted": true,
        "_uuid": "7e1b0784c28b294fb254a639b49245ade91b2ba9"
      },
      "cell_type": "code",
      "source": "\nfor i in df['date']:\n    df['date1'] = i[0:8]\n    \n\n    ",
      "execution_count": null,
      "outputs": []
    },
    {
      "metadata": {
        "trusted": true,
        "_uuid": "e112d77af95e0c229b4cc1c634001352933a4724"
      },
      "cell_type": "code",
      "source": "df['date'] = df['date1']\ndf.drop('date1', axis =1 )",
      "execution_count": null,
      "outputs": []
    },
    {
      "metadata": {
        "trusted": true,
        "_uuid": "1144082fb6ebce1a4aa3aae40eb57ef716e88dfa"
      },
      "cell_type": "code",
      "source": "df.date=pd.to_datetime(df.date)",
      "execution_count": null,
      "outputs": []
    },
    {
      "metadata": {
        "trusted": true,
        "_uuid": "49a5ba0f30ed3552a179a11de2f7aa10c06dcb02"
      },
      "cell_type": "code",
      "source": "",
      "execution_count": null,
      "outputs": []
    },
    {
      "metadata": {
        "trusted": true,
        "_uuid": "7e80b80a8e70afda840af77ae39aeabdeadcbb7f"
      },
      "cell_type": "code",
      "source": "from sklearn.model_selection import train_test_split \nfrom sklearn.linear_model import LinearRegression ",
      "execution_count": null,
      "outputs": []
    },
    {
      "metadata": {
        "trusted": true,
        "_uuid": "24495ad98dd9a93ca5c648e72587f7d1a31de864"
      },
      "cell_type": "code",
      "source": "X = df.drop('price',axis = 1)\ny = df['price']",
      "execution_count": null,
      "outputs": []
    },
    {
      "metadata": {
        "trusted": true,
        "_uuid": "a0745429e93e5ef2b897800ac613e7ae01f48dd6"
      },
      "cell_type": "code",
      "source": "X_train , X_test , y_train , y_test = train_test_split(X,y,test_size = 0.2 , random_state = 42)",
      "execution_count": null,
      "outputs": []
    },
    {
      "metadata": {
        "trusted": true,
        "_uuid": "9fe22511fd66511c5184c070445688317d1357f2"
      },
      "cell_type": "code",
      "source": "linearR = LinearRegression()",
      "execution_count": null,
      "outputs": []
    },
    {
      "metadata": {
        "trusted": true,
        "_uuid": "52315738fed69a2415c3e7a8e398733468dd5e63"
      },
      "cell_type": "code",
      "source": "linearR.fit(X_train,y_train)\n",
      "execution_count": null,
      "outputs": []
    },
    {
      "metadata": {
        "trusted": true,
        "_uuid": "8efc28f6a2753091170a2c3e8cc12ac9ec243761"
      },
      "cell_type": "code",
      "source": "",
      "execution_count": null,
      "outputs": []
    },
    {
      "metadata": {
        "trusted": true,
        "_uuid": "e623e83d45288e9070a2783e3c60dcf13a311793"
      },
      "cell_type": "code",
      "source": "",
      "execution_count": null,
      "outputs": []
    }
  ],
  "metadata": {
    "kernelspec": {
      "display_name": "Python 3",
      "language": "python",
      "name": "python3"
    },
    "language_info": {
      "name": "python",
      "version": "3.6.6",
      "mimetype": "text/x-python",
      "codemirror_mode": {
        "name": "ipython",
        "version": 3
      },
      "pygments_lexer": "ipython3",
      "nbconvert_exporter": "python",
      "file_extension": ".py"
    }
  },
  "nbformat": 4,
  "nbformat_minor": 1
}